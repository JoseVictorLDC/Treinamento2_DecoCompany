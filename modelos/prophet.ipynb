{
 "cells": [
  {
   "cell_type": "markdown",
   "metadata": {},
   "source": [
    "# Prophet"
   ]
  },
  {
   "cell_type": "code",
   "execution_count": 1,
   "metadata": {},
   "outputs": [
    {
     "name": "stderr",
     "output_type": "stream",
     "text": [
      "/home/jose/.local/lib/python3.10/site-packages/tqdm/auto.py:21: TqdmWarning: IProgress not found. Please update jupyter and ipywidgets. See https://ipywidgets.readthedocs.io/en/stable/user_install.html\n",
      "  from .autonotebook import tqdm as notebook_tqdm\n"
     ]
    }
   ],
   "source": [
    "# Imports\n",
    "import numpy as np\n",
    "import pandas as pd\n",
    "from prophet import Prophet\n",
    "from sklearn.metrics import r2_score"
   ]
  },
  {
   "cell_type": "code",
   "execution_count": 12,
   "metadata": {},
   "outputs": [],
   "source": [
    "# Carregar os dados de treinamento\n",
    "train_data = pd.read_excel('../baseDeDados/dataBaseTratadaDistancia.xlsx')\n",
    "\n",
    "# Carregar os dados de teste\n",
    "test_data = pd.read_excel('../baseDeDados/dataBaseTeste.xlsx')"
   ]
  },
  {
   "cell_type": "code",
   "execution_count": 13,
   "metadata": {},
   "outputs": [
    {
     "name": "stderr",
     "output_type": "stream",
     "text": [
      "20:02:59 - cmdstanpy - INFO - Chain [1] start processing\n",
      "20:03:18 - cmdstanpy - INFO - Chain [1] done processing\n"
     ]
    }
   ],
   "source": [
    "# Preparar os dados de treinamento para Prophet\n",
    "train_prophet_data = train_data[['order_purchase_timestamp', 'delivery_time']].copy()\n",
    "train_prophet_data.rename(columns={'order_purchase_timestamp': 'ds', 'delivery_time': 'y'}, inplace=True)\n",
    "train_prophet_data.dropna(inplace=True)\n",
    "\n",
    "# Verificar e ajustar valores antes da transformação logarítmica\n",
    "train_prophet_data['y'] = train_prophet_data['y'].apply(lambda x: max(x, 11))\n",
    "\n",
    "# Subtrair 13 dos valores de 'delivery_time' antes da transformação logarítmica\n",
    "train_prophet_data['y'] = np.log1p(train_prophet_data['y'] - 11)\n",
    "\n",
    "\n",
    "# Criar e treinar o modelo Prophet com ajustes de sazonalidade\n",
    "model = Prophet(yearly_seasonality=True, weekly_seasonality=True, daily_seasonality=False)\n",
    "model.add_seasonality(name='monthly', period=30.5, fourier_order=5)\n",
    "model.fit(train_prophet_data)\n",
    "\n",
    "# Fazer previsões nos dados de treinamento\n",
    "forecast = model.predict(train_prophet_data)\n",
    "\n",
    "# Aplicar a transformação inversa (exponencial) aos valores previstos e adicionar 13\n",
    "forecast['yhat'] = np.expm1(forecast['yhat']) + 11\n",
    "\n",
    "# Preparar os dados de teste para Prophet\n",
    "test_prophet_data = test_data[['order_purchase_timestamp']].copy()\n",
    "test_prophet_data.rename(columns={'order_purchase_timestamp': 'ds'}, inplace=True)\n",
    "\n",
    "# Fazer previsões nos dados de teste\n",
    "forecast_test = model.predict(test_prophet_data)\n",
    "\n",
    "# Aplicar a transformação inversa (exponencial) aos valores previstos e adicionar 13\n",
    "forecast_test['yhat'] = np.expm1(forecast_test['yhat']) + 11\n",
    "\n",
    "# Adicionar previsões ao dataset de teste\n",
    "test_data['previsoes'] = forecast_test['yhat']\n"
   ]
  },
  {
   "cell_type": "code",
   "execution_count": 14,
   "metadata": {},
   "outputs": [
    {
     "name": "stdout",
     "output_type": "stream",
     "text": [
      "                           order_id  previsoes\n",
      "0  cee3292f46ede6ea1dfabfcb200fcf47  13.871654\n",
      "1  50dca53ca33b739bef09e7933e8b380e  13.974268\n",
      "2  8087ec71e393d4dc6fc48041fe63cd51  12.958998\n",
      "3  e6b6557ce111de79b31cc857f20ba212  13.249623\n",
      "4  0b09c5e4c2512f627190ac55a78c35a3  12.981256\n"
     ]
    }
   ],
   "source": [
    "# Mostrar os resultados\n",
    "print(test_data[['order_id', 'previsoes']].head())"
   ]
  },
  {
   "cell_type": "code",
   "execution_count": 15,
   "metadata": {},
   "outputs": [
    {
     "name": "stdout",
     "output_type": "stream",
     "text": [
      "R^2: -146.66792177953047\n"
     ]
    }
   ],
   "source": [
    "# Alinhar os índices dos dados reais e previstos para garantir o mesmo tamanho\n",
    "aligned_data = pd.merge(train_prophet_data, forecast[['ds', 'yhat']], on='ds', how='inner')\n",
    "\n",
    "# Calcular o R^2 usando os valores reais e previstos\n",
    "r2 = r2_score(aligned_data['y'], aligned_data['yhat'])\n",
    "print(f'R^2: {r2}')"
   ]
  },
  {
   "cell_type": "code",
   "execution_count": 16,
   "metadata": {},
   "outputs": [],
   "source": [
    "# Enviando para um dataFrame do Kaggle\n",
    "dfKaggle = test_data[['order_id', 'previsoes']]\n",
    "\n",
    "# Salvar os resultados\n",
    "dfKaggle.to_csv('../resultadoPrevisoes/previsaoProphet.csv', index=False)"
   ]
  },
  {
   "cell_type": "code",
   "execution_count": 17,
   "metadata": {},
   "outputs": [
    {
     "data": {
      "text/html": [
       "<div>\n",
       "<style scoped>\n",
       "    .dataframe tbody tr th:only-of-type {\n",
       "        vertical-align: middle;\n",
       "    }\n",
       "\n",
       "    .dataframe tbody tr th {\n",
       "        vertical-align: top;\n",
       "    }\n",
       "\n",
       "    .dataframe thead th {\n",
       "        text-align: right;\n",
       "    }\n",
       "</style>\n",
       "<table border=\"1\" class=\"dataframe\">\n",
       "  <thead>\n",
       "    <tr style=\"text-align: right;\">\n",
       "      <th></th>\n",
       "      <th>order_id</th>\n",
       "      <th>previsoes</th>\n",
       "    </tr>\n",
       "  </thead>\n",
       "  <tbody>\n",
       "    <tr>\n",
       "      <th>0</th>\n",
       "      <td>cee3292f46ede6ea1dfabfcb200fcf47</td>\n",
       "      <td>13.871654</td>\n",
       "    </tr>\n",
       "    <tr>\n",
       "      <th>1</th>\n",
       "      <td>50dca53ca33b739bef09e7933e8b380e</td>\n",
       "      <td>13.974268</td>\n",
       "    </tr>\n",
       "    <tr>\n",
       "      <th>2</th>\n",
       "      <td>8087ec71e393d4dc6fc48041fe63cd51</td>\n",
       "      <td>12.958998</td>\n",
       "    </tr>\n",
       "    <tr>\n",
       "      <th>3</th>\n",
       "      <td>e6b6557ce111de79b31cc857f20ba212</td>\n",
       "      <td>13.249623</td>\n",
       "    </tr>\n",
       "    <tr>\n",
       "      <th>4</th>\n",
       "      <td>0b09c5e4c2512f627190ac55a78c35a3</td>\n",
       "      <td>12.981256</td>\n",
       "    </tr>\n",
       "    <tr>\n",
       "      <th>...</th>\n",
       "      <td>...</td>\n",
       "      <td>...</td>\n",
       "    </tr>\n",
       "    <tr>\n",
       "      <th>28147</th>\n",
       "      <td>81cedc4d2132eb6f512354166e51b187</td>\n",
       "      <td>10.045431</td>\n",
       "    </tr>\n",
       "    <tr>\n",
       "      <th>28148</th>\n",
       "      <td>95811675a89b66659996da5285a021db</td>\n",
       "      <td>10.045323</td>\n",
       "    </tr>\n",
       "    <tr>\n",
       "      <th>28149</th>\n",
       "      <td>25bd2ad9d282f59e4e6a048ef9bf214f</td>\n",
       "      <td>10.045323</td>\n",
       "    </tr>\n",
       "    <tr>\n",
       "      <th>28150</th>\n",
       "      <td>9f9ac312604229686c04260955495c70</td>\n",
       "      <td>10.045290</td>\n",
       "    </tr>\n",
       "    <tr>\n",
       "      <th>28151</th>\n",
       "      <td>f51c9940410ef77422e4efbca407c161</td>\n",
       "      <td>10.045282</td>\n",
       "    </tr>\n",
       "  </tbody>\n",
       "</table>\n",
       "<p>28152 rows × 2 columns</p>\n",
       "</div>"
      ],
      "text/plain": [
       "                               order_id  previsoes\n",
       "0      cee3292f46ede6ea1dfabfcb200fcf47  13.871654\n",
       "1      50dca53ca33b739bef09e7933e8b380e  13.974268\n",
       "2      8087ec71e393d4dc6fc48041fe63cd51  12.958998\n",
       "3      e6b6557ce111de79b31cc857f20ba212  13.249623\n",
       "4      0b09c5e4c2512f627190ac55a78c35a3  12.981256\n",
       "...                                 ...        ...\n",
       "28147  81cedc4d2132eb6f512354166e51b187  10.045431\n",
       "28148  95811675a89b66659996da5285a021db  10.045323\n",
       "28149  25bd2ad9d282f59e4e6a048ef9bf214f  10.045323\n",
       "28150  9f9ac312604229686c04260955495c70  10.045290\n",
       "28151  f51c9940410ef77422e4efbca407c161  10.045282\n",
       "\n",
       "[28152 rows x 2 columns]"
      ]
     },
     "execution_count": 17,
     "metadata": {},
     "output_type": "execute_result"
    }
   ],
   "source": [
    "dfKaggle"
   ]
  }
 ],
 "metadata": {
  "kernelspec": {
   "display_name": "Python 3",
   "language": "python",
   "name": "python3"
  },
  "language_info": {
   "codemirror_mode": {
    "name": "ipython",
    "version": 3
   },
   "file_extension": ".py",
   "mimetype": "text/x-python",
   "name": "python",
   "nbconvert_exporter": "python",
   "pygments_lexer": "ipython3",
   "version": "3.10.12"
  }
 },
 "nbformat": 4,
 "nbformat_minor": 2
}
