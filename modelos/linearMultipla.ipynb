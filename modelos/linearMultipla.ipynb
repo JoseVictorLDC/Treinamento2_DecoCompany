{
 "cells": [
  {
   "cell_type": "markdown",
   "metadata": {},
   "source": [
    "### Linear multípla"
   ]
  },
  {
   "cell_type": "code",
   "execution_count": 2,
   "metadata": {},
   "outputs": [],
   "source": [
    "import matplotlib.pyplot as plt\n",
    "import pandas as pd\n",
    "import numpy as np"
   ]
  },
  {
   "cell_type": "code",
   "execution_count": 14,
   "metadata": {},
   "outputs": [],
   "source": [
    "df = pd.read_excel('../baseDeDados/dataBaseTratada.xlsx')\n",
    "dfTeste = pd.read_excel('../baseDeDados/dataBaseTeste.xlsx')"
   ]
  },
  {
   "cell_type": "code",
   "execution_count": 15,
   "metadata": {},
   "outputs": [],
   "source": [
    "# Criando novas colunas\n",
    "df['order_weekday'] = pd.to_datetime(df['order_purchase_timestamp']).dt.dayofweek\n",
    "df['is_sao_paulo_estado_comprador'] = (df['customer_state'] == 'sao paulo').astype(int)\n",
    "df['is_sao_paulo_cidade_comprador'] = (df['customer_city'] == 'sao paulo').astype(int)\n",
    "df['is_sao_paulo_estado_vendedor'] = (df['seller_state'] == 'SP').astype(int)\n",
    "df['is_sao_paulo_cidade_vendedor'] = (df['seller_city'] == 'sao paulo').astype(int)\n",
    "df['is_credit_card'] = (df['payment_type'] == 'credit_card').astype(int)"
   ]
  },
  {
   "cell_type": "code",
   "execution_count": 16,
   "metadata": {},
   "outputs": [
    {
     "data": {
      "text/html": [
       "<div>\n",
       "<style scoped>\n",
       "    .dataframe tbody tr th:only-of-type {\n",
       "        vertical-align: middle;\n",
       "    }\n",
       "\n",
       "    .dataframe tbody tr th {\n",
       "        vertical-align: top;\n",
       "    }\n",
       "\n",
       "    .dataframe thead th {\n",
       "        text-align: right;\n",
       "    }\n",
       "</style>\n",
       "<table border=\"1\" class=\"dataframe\">\n",
       "  <thead>\n",
       "    <tr style=\"text-align: right;\">\n",
       "      <th></th>\n",
       "      <th>delivery_time</th>\n",
       "      <th>customer_zip_code_prefix</th>\n",
       "      <th>is_sao_paulo_estado_comprador</th>\n",
       "      <th>is_sao_paulo_cidade_comprador</th>\n",
       "      <th>is_sao_paulo_cidade_vendedor</th>\n",
       "      <th>is_sao_paulo_estado_vendedor</th>\n",
       "      <th>is_credit_card</th>\n",
       "      <th>Distancia</th>\n",
       "      <th>Latitude_Vendedor</th>\n",
       "      <th>Latitude_Comprador</th>\n",
       "      <th>Longitude_Comprador</th>\n",
       "      <th>Longitude_Vendedor</th>\n",
       "    </tr>\n",
       "  </thead>\n",
       "  <tbody>\n",
       "    <tr>\n",
       "      <th>count</th>\n",
       "      <td>73400.000000</td>\n",
       "      <td>73400.000000</td>\n",
       "      <td>73400.000000</td>\n",
       "      <td>73400.000000</td>\n",
       "      <td>73400.00000</td>\n",
       "      <td>73400.000000</td>\n",
       "      <td>73400.000000</td>\n",
       "      <td>73400.000000</td>\n",
       "      <td>73400.000000</td>\n",
       "      <td>73400.000000</td>\n",
       "      <td>73400.000000</td>\n",
       "      <td>73400.000000</td>\n",
       "    </tr>\n",
       "    <tr>\n",
       "      <th>mean</th>\n",
       "      <td>13.215822</td>\n",
       "      <td>33365.253188</td>\n",
       "      <td>0.446757</td>\n",
       "      <td>0.082343</td>\n",
       "      <td>0.24327</td>\n",
       "      <td>0.713583</td>\n",
       "      <td>0.732807</td>\n",
       "      <td>471.013134</td>\n",
       "      <td>-22.841275</td>\n",
       "      <td>-22.323726</td>\n",
       "      <td>-46.471080</td>\n",
       "      <td>-47.270177</td>\n",
       "    </tr>\n",
       "    <tr>\n",
       "      <th>std</th>\n",
       "      <td>8.395676</td>\n",
       "      <td>29963.293600</td>\n",
       "      <td>0.497161</td>\n",
       "      <td>0.274889</td>\n",
       "      <td>0.42906</td>\n",
       "      <td>0.452090</td>\n",
       "      <td>0.442497</td>\n",
       "      <td>374.007502</td>\n",
       "      <td>2.363052</td>\n",
       "      <td>3.765261</td>\n",
       "      <td>3.369710</td>\n",
       "      <td>2.252257</td>\n",
       "    </tr>\n",
       "    <tr>\n",
       "      <th>min</th>\n",
       "      <td>0.530000</td>\n",
       "      <td>1004.000000</td>\n",
       "      <td>0.000000</td>\n",
       "      <td>0.000000</td>\n",
       "      <td>0.00000</td>\n",
       "      <td>0.000000</td>\n",
       "      <td>0.000000</td>\n",
       "      <td>0.000000</td>\n",
       "      <td>-32.034900</td>\n",
       "      <td>-33.525000</td>\n",
       "      <td>-63.899900</td>\n",
       "      <td>-60.021200</td>\n",
       "    </tr>\n",
       "    <tr>\n",
       "      <th>25%</th>\n",
       "      <td>8.180000</td>\n",
       "      <td>9891.000000</td>\n",
       "      <td>0.000000</td>\n",
       "      <td>0.000000</td>\n",
       "      <td>0.00000</td>\n",
       "      <td>0.000000</td>\n",
       "      <td>0.000000</td>\n",
       "      <td>171.747913</td>\n",
       "      <td>-23.532900</td>\n",
       "      <td>-23.532900</td>\n",
       "      <td>-48.069125</td>\n",
       "      <td>-48.334200</td>\n",
       "    </tr>\n",
       "    <tr>\n",
       "      <th>50%</th>\n",
       "      <td>13.550000</td>\n",
       "      <td>22713.000000</td>\n",
       "      <td>0.000000</td>\n",
       "      <td>0.000000</td>\n",
       "      <td>0.00000</td>\n",
       "      <td>1.000000</td>\n",
       "      <td>1.000000</td>\n",
       "      <td>402.933158</td>\n",
       "      <td>-23.420500</td>\n",
       "      <td>-22.912900</td>\n",
       "      <td>-46.639500</td>\n",
       "      <td>-46.639500</td>\n",
       "    </tr>\n",
       "    <tr>\n",
       "      <th>75%</th>\n",
       "      <td>14.000000</td>\n",
       "      <td>41830.000000</td>\n",
       "      <td>1.000000</td>\n",
       "      <td>0.000000</td>\n",
       "      <td>0.00000</td>\n",
       "      <td>1.000000</td>\n",
       "      <td>1.000000</td>\n",
       "      <td>683.681223</td>\n",
       "      <td>-22.038800</td>\n",
       "      <td>-21.169900</td>\n",
       "      <td>-43.926600</td>\n",
       "      <td>-46.564600</td>\n",
       "    </tr>\n",
       "    <tr>\n",
       "      <th>max</th>\n",
       "      <td>194.630000</td>\n",
       "      <td>99980.000000</td>\n",
       "      <td>1.000000</td>\n",
       "      <td>1.000000</td>\n",
       "      <td>1.00000</td>\n",
       "      <td>1.000000</td>\n",
       "      <td>1.000000</td>\n",
       "      <td>1707.896669</td>\n",
       "      <td>-2.538740</td>\n",
       "      <td>-1.297970</td>\n",
       "      <td>-34.854500</td>\n",
       "      <td>-34.864100</td>\n",
       "    </tr>\n",
       "  </tbody>\n",
       "</table>\n",
       "</div>"
      ],
      "text/plain": [
       "       delivery_time  customer_zip_code_prefix  is_sao_paulo_estado_comprador  \\\n",
       "count   73400.000000              73400.000000                   73400.000000   \n",
       "mean       13.215822              33365.253188                       0.446757   \n",
       "std         8.395676              29963.293600                       0.497161   \n",
       "min         0.530000               1004.000000                       0.000000   \n",
       "25%         8.180000               9891.000000                       0.000000   \n",
       "50%        13.550000              22713.000000                       0.000000   \n",
       "75%        14.000000              41830.000000                       1.000000   \n",
       "max       194.630000              99980.000000                       1.000000   \n",
       "\n",
       "       is_sao_paulo_cidade_comprador  is_sao_paulo_cidade_vendedor  \\\n",
       "count                   73400.000000                   73400.00000   \n",
       "mean                        0.082343                       0.24327   \n",
       "std                         0.274889                       0.42906   \n",
       "min                         0.000000                       0.00000   \n",
       "25%                         0.000000                       0.00000   \n",
       "50%                         0.000000                       0.00000   \n",
       "75%                         0.000000                       0.00000   \n",
       "max                         1.000000                       1.00000   \n",
       "\n",
       "       is_sao_paulo_estado_vendedor  is_credit_card     Distancia  \\\n",
       "count                  73400.000000    73400.000000  73400.000000   \n",
       "mean                       0.713583        0.732807    471.013134   \n",
       "std                        0.452090        0.442497    374.007502   \n",
       "min                        0.000000        0.000000      0.000000   \n",
       "25%                        0.000000        0.000000    171.747913   \n",
       "50%                        1.000000        1.000000    402.933158   \n",
       "75%                        1.000000        1.000000    683.681223   \n",
       "max                        1.000000        1.000000   1707.896669   \n",
       "\n",
       "       Latitude_Vendedor  Latitude_Comprador  Longitude_Comprador  \\\n",
       "count       73400.000000        73400.000000         73400.000000   \n",
       "mean          -22.841275          -22.323726           -46.471080   \n",
       "std             2.363052            3.765261             3.369710   \n",
       "min           -32.034900          -33.525000           -63.899900   \n",
       "25%           -23.532900          -23.532900           -48.069125   \n",
       "50%           -23.420500          -22.912900           -46.639500   \n",
       "75%           -22.038800          -21.169900           -43.926600   \n",
       "max            -2.538740           -1.297970           -34.854500   \n",
       "\n",
       "       Longitude_Vendedor  \n",
       "count        73400.000000  \n",
       "mean           -47.270177  \n",
       "std              2.252257  \n",
       "min            -60.021200  \n",
       "25%            -48.334200  \n",
       "50%            -46.639500  \n",
       "75%            -46.564600  \n",
       "max            -34.864100  "
      ]
     },
     "execution_count": 16,
     "metadata": {},
     "output_type": "execute_result"
    }
   ],
   "source": [
    "df_corr = df[['delivery_time', 'customer_zip_code_prefix', 'is_sao_paulo_estado_comprador', 'is_sao_paulo_cidade_comprador', 'is_sao_paulo_cidade_vendedor', 'is_sao_paulo_estado_vendedor', 'is_credit_card', 'Distancia', 'Latitude_Vendedor', 'Latitude_Comprador', 'Longitude_Comprador', 'Longitude_Vendedor']]\n",
    "\n",
    "df_corr.describe()"
   ]
  },
  {
   "cell_type": "code",
   "execution_count": 17,
   "metadata": {},
   "outputs": [],
   "source": [
    "# Separando dados aleatoriamente entre vetores de treino e teste\n",
    "msk = np.random.rand(len(df_corr)) < 0.8\n",
    "treino = df_corr[msk]\n",
    "teste = df_corr[~msk]\n",
    "\n",
    "X_treino = np.asanyarray(treino[['customer_zip_code_prefix', 'is_sao_paulo_estado_comprador', 'is_sao_paulo_cidade_comprador', 'is_sao_paulo_cidade_vendedor', 'is_sao_paulo_estado_vendedor', 'is_credit_card', 'Distancia', 'Latitude_Vendedor', 'Latitude_Comprador', 'Longitude_Comprador', 'Longitude_Vendedor']])\n",
    "y_treino = np.asanyarray(treino[['delivery_time']])\n",
    "X_teste = np.asanyarray(teste[['customer_zip_code_prefix', 'is_sao_paulo_estado_comprador', 'is_sao_paulo_cidade_comprador', 'is_sao_paulo_cidade_vendedor', 'is_sao_paulo_estado_vendedor', 'is_credit_card', 'Distancia', 'Latitude_Vendedor', 'Latitude_Comprador', 'Longitude_Comprador', 'Longitude_Vendedor']].values)\n",
    "y_teste = np.asanyarray(teste[['delivery_time']].values)"
   ]
  },
  {
   "cell_type": "code",
   "execution_count": 18,
   "metadata": {},
   "outputs": [
    {
     "name": "stdout",
     "output_type": "stream",
     "text": [
      "Coeficientes:  [[-7.40214897e-06 -2.97448718e+00 -5.05628319e-01 -1.18310616e+00\n",
      "   1.21732543e+00 -7.00461079e-01  5.19680044e-03  6.28019228e-02\n",
      "  -1.03396414e-01  6.79048747e-02 -8.27012595e-02]]\n"
     ]
    }
   ],
   "source": [
    "from sklearn import linear_model\n",
    "\n",
    "regr = linear_model.LinearRegression()\n",
    "\n",
    "regr.fit (X_treino, y_treino)\n",
    "\n",
    "print('Coeficientes: ', regr.coef_)"
   ]
  },
  {
   "cell_type": "code",
   "execution_count": 19,
   "metadata": {},
   "outputs": [
    {
     "name": "stdout",
     "output_type": "stream",
     "text": [
      "Residual sum of squares: 65.69\n",
      "Variance score: 0.11\n"
     ]
    }
   ],
   "source": [
    "y_hat = regr.predict(teste[['customer_zip_code_prefix', 'is_sao_paulo_estado_comprador', 'is_sao_paulo_cidade_comprador', 'is_sao_paulo_cidade_vendedor', 'is_sao_paulo_estado_vendedor', 'is_credit_card', 'Distancia', 'Latitude_Vendedor', 'Latitude_Comprador', 'Longitude_Comprador', 'Longitude_Vendedor']].values)\n",
    "\n",
    "print(\"Residual sum of squares: %.2f\" % np.mean((y_hat - y_teste) ** 2))\n",
    "print('Variance score: %.2f' % regr.score(X_teste, y_teste))\n"
   ]
  },
  {
   "cell_type": "code",
   "execution_count": 21,
   "metadata": {},
   "outputs": [],
   "source": [
    "# Criando novas colunas para o dfKaggle\n",
    "dfTeste['is_sao_paulo_estado_comprador'] = (dfTeste['customer_state'] == 'sao paulo').astype(int)\n",
    "dfTeste['is_sao_paulo_cidade_comprador'] = (dfTeste['customer_city'] == 'sao paulo').astype(int)\n",
    "dfTeste['is_sao_paulo_estado_vendedor'] = (dfTeste['seller_state'] == 'SP').astype(int)\n",
    "dfTeste['is_sao_paulo_cidade_vendedor'] = (dfTeste['seller_city'] == 'sao paulo').astype(int)\n",
    "dfTeste['is_credit_card'] = (dfTeste['payment_type'] == 'credit_card').astype(int)"
   ]
  },
  {
   "cell_type": "code",
   "execution_count": 23,
   "metadata": {},
   "outputs": [
    {
     "name": "stderr",
     "output_type": "stream",
     "text": [
      "/home/jose/.local/lib/python3.10/site-packages/sklearn/base.py:486: UserWarning: X has feature names, but LinearRegression was fitted without feature names\n",
      "  warnings.warn(\n"
     ]
    }
   ],
   "source": [
    "# Teste na base de dados do Kaggle\n",
    "X = dfTeste[['customer_zip_code_prefix', 'is_sao_paulo_estado_comprador', 'is_sao_paulo_cidade_comprador', 'is_sao_paulo_cidade_vendedor', 'is_sao_paulo_estado_vendedor', 'is_credit_card', 'Distancia', 'Latitude_Vendedor', 'Latitude_Comprador', 'Longitude_Comprador', 'Longitude_Vendedor']]\n",
    "\n",
    "# Predições no conjunto de teste\n",
    "y_pred = regr.predict(X)"
   ]
  },
  {
   "cell_type": "code",
   "execution_count": 24,
   "metadata": {},
   "outputs": [],
   "source": [
    "# Criando o dataFrame do Kaggle\n",
    "dfTeste['previsoes'] = y_pred\n",
    "dfKaggle = dfTeste[['order_id', 'previsoes']]"
   ]
  },
  {
   "cell_type": "code",
   "execution_count": 26,
   "metadata": {},
   "outputs": [],
   "source": [
    "# Exportar o DataFrame para um arquivo CSV\n",
    "dfKaggle.to_csv('../resultadoPrevisoes/previsaoMultipla.csv', index=False)"
   ]
  }
 ],
 "metadata": {
  "kernelspec": {
   "display_name": "Python 3",
   "language": "python",
   "name": "python3"
  },
  "language_info": {
   "codemirror_mode": {
    "name": "ipython",
    "version": 3
   },
   "file_extension": ".py",
   "mimetype": "text/x-python",
   "name": "python",
   "nbconvert_exporter": "python",
   "pygments_lexer": "ipython3",
   "version": "3.10.12"
  }
 },
 "nbformat": 4,
 "nbformat_minor": 2
}
