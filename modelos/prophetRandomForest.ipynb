{
 "cells": [
  {
   "cell_type": "markdown",
   "metadata": {},
   "source": [
    "# Prophet e Random Forest"
   ]
  },
  {
   "cell_type": "code",
   "execution_count": 69,
   "metadata": {},
   "outputs": [
    {
     "name": "stderr",
     "output_type": "stream",
     "text": [
      "/home/jose/.local/lib/python3.10/site-packages/tqdm/auto.py:21: TqdmWarning: IProgress not found. Please update jupyter and ipywidgets. See https://ipywidgets.readthedocs.io/en/stable/user_install.html\n",
      "  from .autonotebook import tqdm as notebook_tqdm\n"
     ]
    }
   ],
   "source": [
    "# Imports\n",
    "import pandas as pd\n",
    "from sklearn.model_selection import train_test_split\n",
    "from sklearn.ensemble import RandomForestRegressor\n",
    "from sklearn.metrics import mean_absolute_error\n",
    "from sklearn.preprocessing import LabelEncoder\n",
    "from sklearn.metrics import mean_squared_error, r2_score\n",
    "from prophet import Prophet"
   ]
  },
  {
   "cell_type": "code",
   "execution_count": 51,
   "metadata": {},
   "outputs": [],
   "source": [
    "# Carregar os datasets\n",
    "data_base_tratada = pd.read_excel('../baseDeDados/dataBaseTratada.xlsx')\n",
    "data_base_teste = pd.read_excel('../baseDeDados/dataBaseTeste.xlsx')"
   ]
  },
  {
   "cell_type": "code",
   "execution_count": 52,
   "metadata": {},
   "outputs": [],
   "source": [
    "# Converter a coluna para o formato datetime\n",
    "data_base_tratada['order_approved_at'] = pd.to_datetime(data_base_tratada['order_approved_at'])\n",
    "\n",
    "# Extrair o dia da semana\n",
    "data_base_tratada['dia_da_semana'] = data_base_tratada['order_approved_at'].dt.day_name()\n",
    "\n",
    "# Criar colunas binárias para cada dia da semana\n",
    "data_base_tratada = pd.get_dummies(data_base_tratada, columns=['dia_da_semana'])\n",
    "\n",
    "# Converter colunas binárias para 1 e 0\n",
    "for col in data_base_tratada.columns:\n",
    "    if 'dia_da_semana_' in col:\n",
    "        data_base_tratada[col] = data_base_tratada[col].astype(int)"
   ]
  },
  {
   "cell_type": "code",
   "execution_count": 53,
   "metadata": {},
   "outputs": [],
   "source": [
    "# Converter a coluna para o formato category\n",
    "data_base_tratada['payment_type'] = data_base_tratada['payment_type'].astype('category')\n",
    "\n",
    "# Criar colunas binárias para cada tipo de pagamento\n",
    "data_base_tratada = pd.get_dummies(data_base_tratada, columns=['payment_type'])\n",
    "\n",
    "# Converter colunas binárias para 1 e 0\n",
    "for col in data_base_tratada.columns:\n",
    "    if 'payment_type' in col:\n",
    "        data_base_tratada[col] = data_base_tratada[col].astype(int)"
   ]
  },
  {
   "cell_type": "code",
   "execution_count": 54,
   "metadata": {},
   "outputs": [],
   "source": [
    "# Converter a coluna para o formato datetime\n",
    "data_base_teste['order_approved_at'] = pd.to_datetime(data_base_teste['order_approved_at'])\n",
    "\n",
    "# Extrair o dia da semana\n",
    "data_base_teste['dia_da_semana'] = data_base_teste['order_approved_at'].dt.day_name()\n",
    "\n",
    "# Criar colunas binárias para cada dia da semana\n",
    "data_base_teste = pd.get_dummies(data_base_teste, columns=['dia_da_semana'])\n",
    "\n",
    "# Converter colunas binárias para 1 e 0\n",
    "for col in data_base_teste.columns:\n",
    "    if 'dia_da_semana_' in col:\n",
    "        data_base_teste[col] = data_base_teste[col].astype(int)"
   ]
  },
  {
   "cell_type": "code",
   "execution_count": 55,
   "metadata": {},
   "outputs": [],
   "source": [
    "# Converter a coluna para o formato category\n",
    "data_base_teste['payment_type'] = data_base_teste['payment_type'].astype('category')\n",
    "\n",
    "# Criar colunas binárias para cada tipo de pagamento\n",
    "data_base_teste = pd.get_dummies(data_base_teste, columns=['payment_type'])\n",
    "\n",
    "# Converter colunas binárias para 1 e 0\n",
    "for col in data_base_teste.columns:\n",
    "    if 'payment_type' in col:\n",
    "        data_base_teste[col] = data_base_teste[col].astype(int)"
   ]
  },
  {
   "cell_type": "code",
   "execution_count": 65,
   "metadata": {},
   "outputs": [
    {
     "name": "stderr",
     "output_type": "stream",
     "text": [
      "/home/jose/.local/lib/python3.10/site-packages/sklearn/base.py:1351: DataConversionWarning: A column-vector y was passed when a 1d array was expected. Please change the shape of y to (n_samples,), for example using ravel().\n",
      "  return fit_method(estimator, *args, **kwargs)\n"
     ]
    },
    {
     "name": "stdout",
     "output_type": "stream",
     "text": [
      "MAE no conjunto de validação: 4.394203294591276\n"
     ]
    }
   ],
   "source": [
    "# (Assumindo que o DELIVERY_TIME é a última coluna do dataBaseTratada)\n",
    "X = data_base_tratada[['customer_zip_code_prefix', 'price', 'freight_value', 'payment_value', 'payment_installments', 'payment_type_boleto', 'payment_type_credit_card', 'payment_type_debit_card', 'payment_type_voucher','product_weight_g', 'product_length_cm', 'product_height_cm', 'product_width_cm', 'seller_zip_code_prefix', 'Distancia', 'product_name_lenght', 'product_description_lenght', 'product_photos_qty', 'dia_da_semana_Friday', 'dia_da_semana_Monday', 'dia_da_semana_Saturday', 'dia_da_semana_Sunday', 'dia_da_semana_Thursday', 'dia_da_semana_Tuesday', 'dia_da_semana_Wednesday']]\n",
    "y = data_base_tratada[['delivery_time']]\n",
    "\n",
    "# Dividir o dataset tratado em treino e validação\n",
    "X_train, X_val, y_train, y_val = train_test_split(X, y, test_size=0.2, random_state=42)\n",
    "\n",
    "# Treinar o modelo Random Forest\n",
    "model = RandomForestRegressor(n_estimators=40, random_state=42)\n",
    "model.fit(X_train, y_train)\n",
    "\n",
    "# Avaliar o modelo no conjunto de validação\n",
    "y_pred_val = model.predict(X_val)\n",
    "mae_val = mean_absolute_error(y_val, y_pred_val)\n",
    "print(f'MAE no conjunto de validação: {mae_val}')"
   ]
  },
  {
   "cell_type": "code",
   "execution_count": 66,
   "metadata": {},
   "outputs": [
    {
     "name": "stdout",
     "output_type": "stream",
     "text": [
      "MAE no conjunto de validação: 4.394203294591276\n"
     ]
    }
   ],
   "source": [
    "# Aplicar o modelo ao conjunto de teste\n",
    "X_test = data_base_teste[['customer_zip_code_prefix', 'price', 'freight_value', 'payment_value', 'payment_installments', 'payment_type_boleto', 'payment_type_credit_card', 'payment_type_debit_card', 'payment_type_voucher','product_weight_g', 'product_length_cm', 'product_height_cm', 'product_width_cm', 'seller_zip_code_prefix', 'Distancia', 'product_name_lenght', 'product_description_lenght', 'product_photos_qty', 'dia_da_semana_Friday', 'dia_da_semana_Monday', 'dia_da_semana_Saturday', 'dia_da_semana_Sunday', 'dia_da_semana_Thursday', 'dia_da_semana_Tuesday', 'dia_da_semana_Wednesday']]\n",
    "y_pred_test = model.predict(X_test)\n",
    "\n",
    "# Avaliar o modelo no conjunto de validação\n",
    "y_pred_val = model.predict(X_val)\n",
    "mae_val = mean_absolute_error(y_val, y_pred_val)\n",
    "print(f'MAE no conjunto de validação: {mae_val}')"
   ]
  },
  {
   "cell_type": "code",
   "execution_count": 71,
   "metadata": {},
   "outputs": [
    {
     "name": "stderr",
     "output_type": "stream",
     "text": [
      "21:40:17 - cmdstanpy - INFO - Chain [1] start processing\n",
      "21:40:40 - cmdstanpy - INFO - Chain [1] done processing\n"
     ]
    }
   ],
   "source": [
    "# Preparar os dados para o Prophet\n",
    "prophet_data = data_base_tratada[['order_purchase_timestamp', 'delivery_time']].rename(columns={'order_purchase_timestamp': 'ds', 'delivery_time': 'y'})\n",
    "\n",
    "# Instanciar e treinar o modelo Prophet\n",
    "prophet_model = Prophet()\n",
    "prophet_model.fit(prophet_data)\n",
    "\n",
    "# Fazer previsões com o modelo Prophet\n",
    "future = prophet_model.make_future_dataframe(periods=len(data_base_teste))\n",
    "forecast = prophet_model.predict(future)\n",
    "\n",
    "# Avaliar a performance do Prophet\n",
    "y_test_prophet = data_base_teste['delivery_time'].values\n",
    "y_pred_prophet = forecast['yhat'][-len(data_base_teste):].values\n",
    "mae_test_prophet = mean_absolute_error(y_test_prophet, y_pred_prophet)\n",
    "print(f'MAE no conjunto de teste com Prophet: {mae_test_prophet}')\n",
    "\n",
    "# Salvar as previsões do Prophet no dataset de teste\n",
    "data_base_teste['previsaoFinal'] = y_pred_prophet"
   ]
  },
  {
   "cell_type": "code",
   "execution_count": 67,
   "metadata": {},
   "outputs": [],
   "source": [
    "# Salvar as previsões no dataset de teste\n",
    "data_base_teste['previsaoFinal'] = y_pred_test\n",
    "\n",
    "# Enviando para um dataFrame do Kaggle\n",
    "dfKaggle = data_base_teste[['order_id', 'previsaoFinal']]\n",
    "\n",
    "# Salvar os resultados\n",
    "dfKaggle.to_csv('../resultadoPrevisoes/previsaoProphetRandomForest.csv', index=False)"
   ]
  },
  {
   "cell_type": "code",
   "execution_count": 68,
   "metadata": {},
   "outputs": [
    {
     "data": {
      "text/html": [
       "<div>\n",
       "<style scoped>\n",
       "    .dataframe tbody tr th:only-of-type {\n",
       "        vertical-align: middle;\n",
       "    }\n",
       "\n",
       "    .dataframe tbody tr th {\n",
       "        vertical-align: top;\n",
       "    }\n",
       "\n",
       "    .dataframe thead th {\n",
       "        text-align: right;\n",
       "    }\n",
       "</style>\n",
       "<table border=\"1\" class=\"dataframe\">\n",
       "  <thead>\n",
       "    <tr style=\"text-align: right;\">\n",
       "      <th></th>\n",
       "      <th>order_id</th>\n",
       "      <th>previsoes</th>\n",
       "    </tr>\n",
       "  </thead>\n",
       "  <tbody>\n",
       "    <tr>\n",
       "      <th>0</th>\n",
       "      <td>cee3292f46ede6ea1dfabfcb200fcf47</td>\n",
       "      <td>17.863553</td>\n",
       "    </tr>\n",
       "    <tr>\n",
       "      <th>1</th>\n",
       "      <td>50dca53ca33b739bef09e7933e8b380e</td>\n",
       "      <td>11.700286</td>\n",
       "    </tr>\n",
       "    <tr>\n",
       "      <th>2</th>\n",
       "      <td>8087ec71e393d4dc6fc48041fe63cd51</td>\n",
       "      <td>6.984536</td>\n",
       "    </tr>\n",
       "    <tr>\n",
       "      <th>3</th>\n",
       "      <td>e6b6557ce111de79b31cc857f20ba212</td>\n",
       "      <td>12.402936</td>\n",
       "    </tr>\n",
       "    <tr>\n",
       "      <th>4</th>\n",
       "      <td>0b09c5e4c2512f627190ac55a78c35a3</td>\n",
       "      <td>15.386702</td>\n",
       "    </tr>\n",
       "    <tr>\n",
       "      <th>...</th>\n",
       "      <td>...</td>\n",
       "      <td>...</td>\n",
       "    </tr>\n",
       "    <tr>\n",
       "      <th>28147</th>\n",
       "      <td>81cedc4d2132eb6f512354166e51b187</td>\n",
       "      <td>13.801536</td>\n",
       "    </tr>\n",
       "    <tr>\n",
       "      <th>28148</th>\n",
       "      <td>95811675a89b66659996da5285a021db</td>\n",
       "      <td>12.971069</td>\n",
       "    </tr>\n",
       "    <tr>\n",
       "      <th>28149</th>\n",
       "      <td>25bd2ad9d282f59e4e6a048ef9bf214f</td>\n",
       "      <td>22.044170</td>\n",
       "    </tr>\n",
       "    <tr>\n",
       "      <th>28150</th>\n",
       "      <td>9f9ac312604229686c04260955495c70</td>\n",
       "      <td>8.260170</td>\n",
       "    </tr>\n",
       "    <tr>\n",
       "      <th>28151</th>\n",
       "      <td>f51c9940410ef77422e4efbca407c161</td>\n",
       "      <td>18.391069</td>\n",
       "    </tr>\n",
       "  </tbody>\n",
       "</table>\n",
       "<p>28152 rows × 2 columns</p>\n",
       "</div>"
      ],
      "text/plain": [
       "                               order_id  previsoes\n",
       "0      cee3292f46ede6ea1dfabfcb200fcf47  17.863553\n",
       "1      50dca53ca33b739bef09e7933e8b380e  11.700286\n",
       "2      8087ec71e393d4dc6fc48041fe63cd51   6.984536\n",
       "3      e6b6557ce111de79b31cc857f20ba212  12.402936\n",
       "4      0b09c5e4c2512f627190ac55a78c35a3  15.386702\n",
       "...                                 ...        ...\n",
       "28147  81cedc4d2132eb6f512354166e51b187  13.801536\n",
       "28148  95811675a89b66659996da5285a021db  12.971069\n",
       "28149  25bd2ad9d282f59e4e6a048ef9bf214f  22.044170\n",
       "28150  9f9ac312604229686c04260955495c70   8.260170\n",
       "28151  f51c9940410ef77422e4efbca407c161  18.391069\n",
       "\n",
       "[28152 rows x 2 columns]"
      ]
     },
     "execution_count": 68,
     "metadata": {},
     "output_type": "execute_result"
    }
   ],
   "source": [
    "dfKaggle"
   ]
  }
 ],
 "metadata": {
  "kernelspec": {
   "display_name": "Python 3",
   "language": "python",
   "name": "python3"
  },
  "language_info": {
   "codemirror_mode": {
    "name": "ipython",
    "version": 3
   },
   "file_extension": ".py",
   "mimetype": "text/x-python",
   "name": "python",
   "nbconvert_exporter": "python",
   "pygments_lexer": "ipython3",
   "version": "3.10.12"
  }
 },
 "nbformat": 4,
 "nbformat_minor": 2
}
