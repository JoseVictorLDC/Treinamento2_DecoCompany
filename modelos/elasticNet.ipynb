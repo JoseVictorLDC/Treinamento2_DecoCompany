{
 "cells": [
  {
   "cell_type": "markdown",
   "metadata": {},
   "source": [
    "### Elastic Net"
   ]
  },
  {
   "cell_type": "code",
   "execution_count": 2,
   "metadata": {},
   "outputs": [],
   "source": [
    "# Importe de bibliotecas e dados\n",
    "import pandas as pd\n",
    "from sklearn.model_selection import train_test_split, GridSearchCV\n",
    "from sklearn.preprocessing import StandardScaler\n",
    "from sklearn.linear_model import ElasticNet\n",
    "from sklearn.metrics import mean_squared_error, r2_score\n",
    "\n",
    "# Carregar o arquivo completo\n",
    "df = pd.read_excel('../baseDeDados/dataBaseTratada.xlsx')\n",
    "dfTeste = pd.read_excel('../baseDeDados/dataBaseTeste.xlsx')"
   ]
  },
  {
   "cell_type": "code",
   "execution_count": 3,
   "metadata": {},
   "outputs": [],
   "source": [
    "# Criando novas colunas\n",
    "df['order_weekday'] = pd.to_datetime(df['order_purchase_timestamp']).dt.dayofweek\n",
    "df['is_sao_paulo_estado_comprador'] = (df['customer_state'] == 'sao paulo').astype(int)\n",
    "df['is_sao_paulo_cidade_comprador'] = (df['customer_city'] == 'sao paulo').astype(int)\n",
    "df['is_sao_paulo_estado_vendedor'] = (df['seller_state'] == 'SP').astype(int)\n",
    "df['is_sao_paulo_cidade_vendedor'] = (df['seller_city'] == 'sao paulo').astype(int)\n",
    "df['is_credit_card'] = (df['payment_type'] == 'credit_card').astype(int)"
   ]
  },
  {
   "cell_type": "code",
   "execution_count": 23,
   "metadata": {},
   "outputs": [
    {
     "name": "stdout",
     "output_type": "stream",
     "text": [
      "Mean Squared Error: 58.00053674434879\n",
      "R-squared: 0.12119343009843797\n"
     ]
    }
   ],
   "source": [
    "# Selecionar colunas relevantes\n",
    "selected_columns = ['delivery_time', 'customer_zip_code_prefix', 'is_sao_paulo_estado_comprador', 'is_sao_paulo_cidade_comprador', 'is_sao_paulo_cidade_vendedor', 'is_sao_paulo_estado_vendedor', 'is_credit_card', 'Distancia', 'Latitude_Vendedor', 'Latitude_Comprador', 'Longitude_Comprador', 'Longitude_Vendedor']\n",
    "data_selected = df[selected_columns]\n",
    "\n",
    "# Separar as variáveis independentes (features) e a variável dependente (target)\n",
    "X = data_selected.drop('delivery_time', axis=1)\n",
    "y = data_selected['delivery_time']\n",
    "\n",
    "# Dividir os dados em conjuntos de treino e teste\n",
    "X_train, X_test, y_train, y_test = train_test_split(X, y, test_size=0.2, random_state=42)\n",
    "\n",
    "# Normalizar os dados\n",
    "scaler = StandardScaler()\n",
    "X_train = scaler.fit_transform(X_train)\n",
    "X_test = scaler.transform(X_test)\n",
    "\n",
    "# Construir e treinar o modelo Elastic Net\n",
    "model = ElasticNet(alpha=0.1, l1_ratio=0.1, random_state=42)\n",
    "model.fit(X_train, y_train)\n",
    "\n",
    "# Fazer previsões\n",
    "y_pred = model.predict(X_test)\n",
    "\n",
    "# Avaliar o modelo\n",
    "mse = mean_squared_error(y_test, y_pred)\n",
    "r2 = r2_score(y_test, y_pred)\n",
    "\n",
    "print(f'Mean Squared Error: {mse}')\n",
    "print(f'R-squared: {r2}')\n"
   ]
  },
  {
   "cell_type": "code",
   "execution_count": 17,
   "metadata": {},
   "outputs": [],
   "source": [
    "# Criando novas colunas para o dfKaggle\n",
    "dfTeste['is_sao_paulo_estado_comprador'] = (dfTeste['customer_state'] == 'sao paulo').astype(int)\n",
    "dfTeste['is_sao_paulo_cidade_comprador'] = (dfTeste['customer_city'] == 'sao paulo').astype(int)\n",
    "dfTeste['is_sao_paulo_estado_vendedor'] = (dfTeste['seller_state'] == 'SP').astype(int)\n",
    "dfTeste['is_sao_paulo_cidade_vendedor'] = (dfTeste['seller_city'] == 'sao paulo').astype(int)\n",
    "dfTeste['is_credit_card'] = (dfTeste['payment_type'] == 'credit_card').astype(int)"
   ]
  },
  {
   "cell_type": "code",
   "execution_count": 18,
   "metadata": {},
   "outputs": [
    {
     "name": "stderr",
     "output_type": "stream",
     "text": [
      "/home/jose/.local/lib/python3.10/site-packages/sklearn/base.py:486: UserWarning: X has feature names, but ElasticNet was fitted without feature names\n",
      "  warnings.warn(\n"
     ]
    }
   ],
   "source": [
    "# Teste na base de dados do Kaggle\n",
    "X = dfTeste[['product_weight_g', 'customer_zip_code_prefix', 'is_sao_paulo_estado_comprador', 'is_sao_paulo_cidade_comprador', 'is_sao_paulo_cidade_vendedor', 'is_sao_paulo_estado_vendedor', 'is_credit_card', 'Distancia', 'Latitude_Vendedor', 'Latitude_Comprador']]\n",
    "\n",
    "# Predições no conjunto de teste\n",
    "y_pred = model.predict(X)"
   ]
  },
  {
   "cell_type": "code",
   "execution_count": 19,
   "metadata": {},
   "outputs": [],
   "source": [
    "# Criando o dataFrame do Kaggle\n",
    "dfTeste['previsoes'] = y_pred\n",
    "dfKaggle = dfTeste[['order_id', 'previsoes']]"
   ]
  },
  {
   "cell_type": "code",
   "execution_count": 20,
   "metadata": {},
   "outputs": [
    {
     "data": {
      "text/html": [
       "<div>\n",
       "<style scoped>\n",
       "    .dataframe tbody tr th:only-of-type {\n",
       "        vertical-align: middle;\n",
       "    }\n",
       "\n",
       "    .dataframe tbody tr th {\n",
       "        vertical-align: top;\n",
       "    }\n",
       "\n",
       "    .dataframe thead th {\n",
       "        text-align: right;\n",
       "    }\n",
       "</style>\n",
       "<table border=\"1\" class=\"dataframe\">\n",
       "  <thead>\n",
       "    <tr style=\"text-align: right;\">\n",
       "      <th></th>\n",
       "      <th>order_id</th>\n",
       "      <th>previsoes</th>\n",
       "    </tr>\n",
       "  </thead>\n",
       "  <tbody>\n",
       "    <tr>\n",
       "      <th>0</th>\n",
       "      <td>cee3292f46ede6ea1dfabfcb200fcf47</td>\n",
       "      <td>5465.760827</td>\n",
       "    </tr>\n",
       "    <tr>\n",
       "      <th>1</th>\n",
       "      <td>50dca53ca33b739bef09e7933e8b380e</td>\n",
       "      <td>209.839371</td>\n",
       "    </tr>\n",
       "    <tr>\n",
       "      <th>2</th>\n",
       "      <td>8087ec71e393d4dc6fc48041fe63cd51</td>\n",
       "      <td>24.781648</td>\n",
       "    </tr>\n",
       "    <tr>\n",
       "      <th>3</th>\n",
       "      <td>e6b6557ce111de79b31cc857f20ba212</td>\n",
       "      <td>-453.763572</td>\n",
       "    </tr>\n",
       "    <tr>\n",
       "      <th>4</th>\n",
       "      <td>0b09c5e4c2512f627190ac55a78c35a3</td>\n",
       "      <td>-4093.554223</td>\n",
       "    </tr>\n",
       "    <tr>\n",
       "      <th>...</th>\n",
       "      <td>...</td>\n",
       "      <td>...</td>\n",
       "    </tr>\n",
       "    <tr>\n",
       "      <th>28147</th>\n",
       "      <td>81cedc4d2132eb6f512354166e51b187</td>\n",
       "      <td>-186.229359</td>\n",
       "    </tr>\n",
       "    <tr>\n",
       "      <th>28148</th>\n",
       "      <td>95811675a89b66659996da5285a021db</td>\n",
       "      <td>-656.754002</td>\n",
       "    </tr>\n",
       "    <tr>\n",
       "      <th>28149</th>\n",
       "      <td>25bd2ad9d282f59e4e6a048ef9bf214f</td>\n",
       "      <td>1263.008180</td>\n",
       "    </tr>\n",
       "    <tr>\n",
       "      <th>28150</th>\n",
       "      <td>9f9ac312604229686c04260955495c70</td>\n",
       "      <td>109.011573</td>\n",
       "    </tr>\n",
       "    <tr>\n",
       "      <th>28151</th>\n",
       "      <td>f51c9940410ef77422e4efbca407c161</td>\n",
       "      <td>-2197.545006</td>\n",
       "    </tr>\n",
       "  </tbody>\n",
       "</table>\n",
       "<p>28152 rows × 2 columns</p>\n",
       "</div>"
      ],
      "text/plain": [
       "                               order_id    previsoes\n",
       "0      cee3292f46ede6ea1dfabfcb200fcf47  5465.760827\n",
       "1      50dca53ca33b739bef09e7933e8b380e   209.839371\n",
       "2      8087ec71e393d4dc6fc48041fe63cd51    24.781648\n",
       "3      e6b6557ce111de79b31cc857f20ba212  -453.763572\n",
       "4      0b09c5e4c2512f627190ac55a78c35a3 -4093.554223\n",
       "...                                 ...          ...\n",
       "28147  81cedc4d2132eb6f512354166e51b187  -186.229359\n",
       "28148  95811675a89b66659996da5285a021db  -656.754002\n",
       "28149  25bd2ad9d282f59e4e6a048ef9bf214f  1263.008180\n",
       "28150  9f9ac312604229686c04260955495c70   109.011573\n",
       "28151  f51c9940410ef77422e4efbca407c161 -2197.545006\n",
       "\n",
       "[28152 rows x 2 columns]"
      ]
     },
     "execution_count": 20,
     "metadata": {},
     "output_type": "execute_result"
    }
   ],
   "source": [
    "dfKaggle"
   ]
  },
  {
   "cell_type": "code",
   "execution_count": 21,
   "metadata": {},
   "outputs": [],
   "source": [
    "# Exportar o DataFrame para um arquivo CSV\n",
    "dfKaggle.to_csv('../resultadoPrevisoes/previsaoElasticNet.csv', index=False)"
   ]
  }
 ],
 "metadata": {
  "kernelspec": {
   "display_name": "Python 3",
   "language": "python",
   "name": "python3"
  },
  "language_info": {
   "codemirror_mode": {
    "name": "ipython",
    "version": 3
   },
   "file_extension": ".py",
   "mimetype": "text/x-python",
   "name": "python",
   "nbconvert_exporter": "python",
   "pygments_lexer": "ipython3",
   "version": "3.10.12"
  }
 },
 "nbformat": 4,
 "nbformat_minor": 2
}
