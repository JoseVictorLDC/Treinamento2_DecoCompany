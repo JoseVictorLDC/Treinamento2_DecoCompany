{
 "cells": [
  {
   "cell_type": "markdown",
   "metadata": {},
   "source": [
    "# Tratamento dos excels com tamanho mito grande, no intuito de colocar no github"
   ]
  },
  {
   "cell_type": "code",
   "execution_count": 1,
   "metadata": {},
   "outputs": [],
   "source": [
    "# Imports\n",
    "import pandas as pd"
   ]
  },
  {
   "cell_type": "code",
   "execution_count": 16,
   "metadata": {},
   "outputs": [],
   "source": [
    "# Caminho para o arquivo Excel\n",
    "caminho_excel = './baseDeDados/dataBaseTratada.xlsx'\n",
    "\n",
    "# Leia o arquivo Excel\n",
    "df1 = pd.read_excel(caminho_excel)"
   ]
  },
  {
   "cell_type": "code",
   "execution_count": 17,
   "metadata": {},
   "outputs": [],
   "source": [
    "# Caminho para salvar o arquivo CSV\n",
    "caminho_csv = './baseDeDados/dataBaseTratada.csv'\n",
    "df1.to_csv(caminho_csv)"
   ]
  },
  {
   "cell_type": "code",
   "execution_count": 12,
   "metadata": {},
   "outputs": [],
   "source": [
    "# Caminho para o arquivo Excel\n",
    "caminho_excel = './baseDeDados/dataBase.xlsx'\n",
    "\n",
    "# Leia o arquivo Excel\n",
    "df2 = pd.read_excel(caminho_excel)"
   ]
  },
  {
   "cell_type": "code",
   "execution_count": 15,
   "metadata": {},
   "outputs": [],
   "source": [
    "# Caminho para salvar o arquivo CSV\n",
    "caminho_csv = './baseDeDados/dataBase.csv'\n",
    "df2.to_csv(caminho_csv)"
   ]
  }
 ],
 "metadata": {
  "kernelspec": {
   "display_name": "Python 3",
   "language": "python",
   "name": "python3"
  },
  "language_info": {
   "codemirror_mode": {
    "name": "ipython",
    "version": 3
   },
   "file_extension": ".py",
   "mimetype": "text/x-python",
   "name": "python",
   "nbconvert_exporter": "python",
   "pygments_lexer": "ipython3",
   "version": "3.10.12"
  }
 },
 "nbformat": 4,
 "nbformat_minor": 2
}
